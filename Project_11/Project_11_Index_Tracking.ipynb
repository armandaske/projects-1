{
 "cells": [
  {
   "cell_type": "markdown",
   "metadata": {},
   "source": [
    "# Project 11: Index Tracking and Forward Testing (US Stocks)"
   ]
  },
  {
   "cell_type": "markdown",
   "metadata": {},
   "source": [
    "## Importing the Data"
   ]
  },
  {
   "cell_type": "code",
   "execution_count": 1,
   "metadata": {},
   "outputs": [],
   "source": [
    "import pandas as pd"
   ]
  },
  {
   "cell_type": "code",
   "execution_count": 2,
   "metadata": {},
   "outputs": [
    {
     "data": {
      "text/html": [
       "<div>\n",
       "<style scoped>\n",
       "    .dataframe tbody tr th:only-of-type {\n",
       "        vertical-align: middle;\n",
       "    }\n",
       "\n",
       "    .dataframe tbody tr th {\n",
       "        vertical-align: top;\n",
       "    }\n",
       "\n",
       "    .dataframe thead th {\n",
       "        text-align: right;\n",
       "    }\n",
       "</style>\n",
       "<table border=\"1\" class=\"dataframe\">\n",
       "  <thead>\n",
       "    <tr style=\"text-align: right;\">\n",
       "      <th></th>\n",
       "      <th>AAPL</th>\n",
       "      <th>AXP</th>\n",
       "      <th>BA</th>\n",
       "      <th>CAT</th>\n",
       "      <th>CSCO</th>\n",
       "      <th>CVX</th>\n",
       "      <th>DIS</th>\n",
       "      <th>DOW</th>\n",
       "      <th>GS</th>\n",
       "      <th>HD</th>\n",
       "      <th>...</th>\n",
       "      <th>PFE</th>\n",
       "      <th>PG</th>\n",
       "      <th>RTX</th>\n",
       "      <th>TRV</th>\n",
       "      <th>UNH</th>\n",
       "      <th>V</th>\n",
       "      <th>VZ</th>\n",
       "      <th>WBA</th>\n",
       "      <th>WMT</th>\n",
       "      <th>XOM</th>\n",
       "    </tr>\n",
       "    <tr>\n",
       "      <th>Date</th>\n",
       "      <th></th>\n",
       "      <th></th>\n",
       "      <th></th>\n",
       "      <th></th>\n",
       "      <th></th>\n",
       "      <th></th>\n",
       "      <th></th>\n",
       "      <th></th>\n",
       "      <th></th>\n",
       "      <th></th>\n",
       "      <th></th>\n",
       "      <th></th>\n",
       "      <th></th>\n",
       "      <th></th>\n",
       "      <th></th>\n",
       "      <th></th>\n",
       "      <th></th>\n",
       "      <th></th>\n",
       "      <th></th>\n",
       "      <th></th>\n",
       "      <th></th>\n",
       "    </tr>\n",
       "  </thead>\n",
       "  <tbody>\n",
       "    <tr>\n",
       "      <th>2007-01-03</th>\n",
       "      <td>11.971429</td>\n",
       "      <td>60.360001</td>\n",
       "      <td>89.169998</td>\n",
       "      <td>61.160000</td>\n",
       "      <td>27.730000</td>\n",
       "      <td>70.970001</td>\n",
       "      <td>33.738300</td>\n",
       "      <td>NaN</td>\n",
       "      <td>200.720001</td>\n",
       "      <td>41.070000</td>\n",
       "      <td>...</td>\n",
       "      <td>26.290001</td>\n",
       "      <td>64.540001</td>\n",
       "      <td>39.528004</td>\n",
       "      <td>53.549999</td>\n",
       "      <td>52.570000</td>\n",
       "      <td>NaN</td>\n",
       "      <td>35.306732</td>\n",
       "      <td>46.070000</td>\n",
       "      <td>47.549999</td>\n",
       "      <td>74.110001</td>\n",
       "    </tr>\n",
       "    <tr>\n",
       "      <th>2007-01-04</th>\n",
       "      <td>12.237143</td>\n",
       "      <td>59.919998</td>\n",
       "      <td>89.529999</td>\n",
       "      <td>61.000000</td>\n",
       "      <td>28.459999</td>\n",
       "      <td>70.279999</td>\n",
       "      <td>34.004654</td>\n",
       "      <td>NaN</td>\n",
       "      <td>198.850006</td>\n",
       "      <td>40.570000</td>\n",
       "      <td>...</td>\n",
       "      <td>26.379999</td>\n",
       "      <td>64.050003</td>\n",
       "      <td>39.565765</td>\n",
       "      <td>53.099998</td>\n",
       "      <td>52.910000</td>\n",
       "      <td>NaN</td>\n",
       "      <td>35.502777</td>\n",
       "      <td>46.160000</td>\n",
       "      <td>47.779999</td>\n",
       "      <td>72.720001</td>\n",
       "    </tr>\n",
       "    <tr>\n",
       "      <th>2007-01-05</th>\n",
       "      <td>12.150000</td>\n",
       "      <td>59.130001</td>\n",
       "      <td>89.150002</td>\n",
       "      <td>60.220001</td>\n",
       "      <td>28.469999</td>\n",
       "      <td>70.550003</td>\n",
       "      <td>33.728436</td>\n",
       "      <td>NaN</td>\n",
       "      <td>199.050003</td>\n",
       "      <td>39.790001</td>\n",
       "      <td>...</td>\n",
       "      <td>26.299999</td>\n",
       "      <td>63.500000</td>\n",
       "      <td>39.446194</td>\n",
       "      <td>52.410000</td>\n",
       "      <td>52.549999</td>\n",
       "      <td>NaN</td>\n",
       "      <td>34.895969</td>\n",
       "      <td>45.500000</td>\n",
       "      <td>47.389999</td>\n",
       "      <td>73.239998</td>\n",
       "    </tr>\n",
       "    <tr>\n",
       "      <th>2007-01-08</th>\n",
       "      <td>12.210000</td>\n",
       "      <td>59.689999</td>\n",
       "      <td>88.940002</td>\n",
       "      <td>60.290001</td>\n",
       "      <td>28.629999</td>\n",
       "      <td>71.449997</td>\n",
       "      <td>34.034248</td>\n",
       "      <td>NaN</td>\n",
       "      <td>203.729996</td>\n",
       "      <td>39.490002</td>\n",
       "      <td>...</td>\n",
       "      <td>26.160000</td>\n",
       "      <td>63.639999</td>\n",
       "      <td>39.767151</td>\n",
       "      <td>52.020000</td>\n",
       "      <td>53.320000</td>\n",
       "      <td>NaN</td>\n",
       "      <td>34.363850</td>\n",
       "      <td>45.689999</td>\n",
       "      <td>47.000000</td>\n",
       "      <td>72.650002</td>\n",
       "    </tr>\n",
       "    <tr>\n",
       "      <th>2007-01-09</th>\n",
       "      <td>13.224286</td>\n",
       "      <td>59.310001</td>\n",
       "      <td>88.000000</td>\n",
       "      <td>60.619999</td>\n",
       "      <td>28.469999</td>\n",
       "      <td>70.629997</td>\n",
       "      <td>33.984924</td>\n",
       "      <td>NaN</td>\n",
       "      <td>204.080002</td>\n",
       "      <td>39.320000</td>\n",
       "      <td>...</td>\n",
       "      <td>26.170000</td>\n",
       "      <td>63.480000</td>\n",
       "      <td>39.314034</td>\n",
       "      <td>51.889999</td>\n",
       "      <td>52.680000</td>\n",
       "      <td>NaN</td>\n",
       "      <td>34.503880</td>\n",
       "      <td>45.930000</td>\n",
       "      <td>47.389999</td>\n",
       "      <td>72.089996</td>\n",
       "    </tr>\n",
       "    <tr>\n",
       "      <th>...</th>\n",
       "      <td>...</td>\n",
       "      <td>...</td>\n",
       "      <td>...</td>\n",
       "      <td>...</td>\n",
       "      <td>...</td>\n",
       "      <td>...</td>\n",
       "      <td>...</td>\n",
       "      <td>...</td>\n",
       "      <td>...</td>\n",
       "      <td>...</td>\n",
       "      <td>...</td>\n",
       "      <td>...</td>\n",
       "      <td>...</td>\n",
       "      <td>...</td>\n",
       "      <td>...</td>\n",
       "      <td>...</td>\n",
       "      <td>...</td>\n",
       "      <td>...</td>\n",
       "      <td>...</td>\n",
       "      <td>...</td>\n",
       "      <td>...</td>\n",
       "    </tr>\n",
       "    <tr>\n",
       "      <th>2020-03-24</th>\n",
       "      <td>246.880005</td>\n",
       "      <td>84.050003</td>\n",
       "      <td>127.680000</td>\n",
       "      <td>101.339996</td>\n",
       "      <td>38.599998</td>\n",
       "      <td>66.550003</td>\n",
       "      <td>98.120003</td>\n",
       "      <td>28.469999</td>\n",
       "      <td>153.600006</td>\n",
       "      <td>184.720001</td>\n",
       "      <td>...</td>\n",
       "      <td>29.700001</td>\n",
       "      <td>103.269997</td>\n",
       "      <td>54.600376</td>\n",
       "      <td>93.739998</td>\n",
       "      <td>219.800003</td>\n",
       "      <td>154.529999</td>\n",
       "      <td>49.990002</td>\n",
       "      <td>45.250000</td>\n",
       "      <td>115.029999</td>\n",
       "      <td>35.439999</td>\n",
       "    </tr>\n",
       "    <tr>\n",
       "      <th>2020-03-25</th>\n",
       "      <td>245.520004</td>\n",
       "      <td>90.169998</td>\n",
       "      <td>158.729996</td>\n",
       "      <td>104.669998</td>\n",
       "      <td>37.669998</td>\n",
       "      <td>69.269997</td>\n",
       "      <td>100.730003</td>\n",
       "      <td>30.379999</td>\n",
       "      <td>155.130005</td>\n",
       "      <td>181.759995</td>\n",
       "      <td>...</td>\n",
       "      <td>29.750000</td>\n",
       "      <td>100.919998</td>\n",
       "      <td>60.534927</td>\n",
       "      <td>92.180000</td>\n",
       "      <td>234.490005</td>\n",
       "      <td>161.779999</td>\n",
       "      <td>49.939999</td>\n",
       "      <td>41.439999</td>\n",
       "      <td>109.400002</td>\n",
       "      <td>37.290001</td>\n",
       "    </tr>\n",
       "    <tr>\n",
       "      <th>2020-03-26</th>\n",
       "      <td>258.440002</td>\n",
       "      <td>93.290001</td>\n",
       "      <td>180.550003</td>\n",
       "      <td>110.500000</td>\n",
       "      <td>40.580002</td>\n",
       "      <td>76.379997</td>\n",
       "      <td>105.360001</td>\n",
       "      <td>29.680000</td>\n",
       "      <td>165.789993</td>\n",
       "      <td>195.210007</td>\n",
       "      <td>...</td>\n",
       "      <td>31.750000</td>\n",
       "      <td>107.379997</td>\n",
       "      <td>65.852737</td>\n",
       "      <td>98.669998</td>\n",
       "      <td>255.389999</td>\n",
       "      <td>168.880005</td>\n",
       "      <td>53.540001</td>\n",
       "      <td>45.669998</td>\n",
       "      <td>109.820000</td>\n",
       "      <td>38.820000</td>\n",
       "    </tr>\n",
       "    <tr>\n",
       "      <th>2020-03-27</th>\n",
       "      <td>247.740005</td>\n",
       "      <td>88.730003</td>\n",
       "      <td>162.000000</td>\n",
       "      <td>105.440002</td>\n",
       "      <td>38.820000</td>\n",
       "      <td>68.779999</td>\n",
       "      <td>96.400002</td>\n",
       "      <td>28.559999</td>\n",
       "      <td>158.339996</td>\n",
       "      <td>190.550003</td>\n",
       "      <td>...</td>\n",
       "      <td>30.900000</td>\n",
       "      <td>110.169998</td>\n",
       "      <td>61.139080</td>\n",
       "      <td>99.949997</td>\n",
       "      <td>242.449997</td>\n",
       "      <td>161.559998</td>\n",
       "      <td>52.770000</td>\n",
       "      <td>44.000000</td>\n",
       "      <td>109.580002</td>\n",
       "      <td>36.950001</td>\n",
       "    </tr>\n",
       "    <tr>\n",
       "      <th>2020-03-30</th>\n",
       "      <td>254.809998</td>\n",
       "      <td>90.269997</td>\n",
       "      <td>152.279999</td>\n",
       "      <td>111.709999</td>\n",
       "      <td>40.320000</td>\n",
       "      <td>71.949997</td>\n",
       "      <td>99.800003</td>\n",
       "      <td>28.650000</td>\n",
       "      <td>159.619995</td>\n",
       "      <td>196.100006</td>\n",
       "      <td>...</td>\n",
       "      <td>32.669998</td>\n",
       "      <td>115.000000</td>\n",
       "      <td>61.982380</td>\n",
       "      <td>102.589996</td>\n",
       "      <td>251.279999</td>\n",
       "      <td>165.570007</td>\n",
       "      <td>54.770000</td>\n",
       "      <td>45.160000</td>\n",
       "      <td>115.190002</td>\n",
       "      <td>37.500000</td>\n",
       "    </tr>\n",
       "  </tbody>\n",
       "</table>\n",
       "<p>3334 rows × 30 columns</p>\n",
       "</div>"
      ],
      "text/plain": [
       "                  AAPL        AXP          BA         CAT       CSCO  \\\n",
       "Date                                                                   \n",
       "2007-01-03   11.971429  60.360001   89.169998   61.160000  27.730000   \n",
       "2007-01-04   12.237143  59.919998   89.529999   61.000000  28.459999   \n",
       "2007-01-05   12.150000  59.130001   89.150002   60.220001  28.469999   \n",
       "2007-01-08   12.210000  59.689999   88.940002   60.290001  28.629999   \n",
       "2007-01-09   13.224286  59.310001   88.000000   60.619999  28.469999   \n",
       "...                ...        ...         ...         ...        ...   \n",
       "2020-03-24  246.880005  84.050003  127.680000  101.339996  38.599998   \n",
       "2020-03-25  245.520004  90.169998  158.729996  104.669998  37.669998   \n",
       "2020-03-26  258.440002  93.290001  180.550003  110.500000  40.580002   \n",
       "2020-03-27  247.740005  88.730003  162.000000  105.440002  38.820000   \n",
       "2020-03-30  254.809998  90.269997  152.279999  111.709999  40.320000   \n",
       "\n",
       "                  CVX         DIS        DOW          GS          HD  ...  \\\n",
       "Date                                                                  ...   \n",
       "2007-01-03  70.970001   33.738300        NaN  200.720001   41.070000  ...   \n",
       "2007-01-04  70.279999   34.004654        NaN  198.850006   40.570000  ...   \n",
       "2007-01-05  70.550003   33.728436        NaN  199.050003   39.790001  ...   \n",
       "2007-01-08  71.449997   34.034248        NaN  203.729996   39.490002  ...   \n",
       "2007-01-09  70.629997   33.984924        NaN  204.080002   39.320000  ...   \n",
       "...               ...         ...        ...         ...         ...  ...   \n",
       "2020-03-24  66.550003   98.120003  28.469999  153.600006  184.720001  ...   \n",
       "2020-03-25  69.269997  100.730003  30.379999  155.130005  181.759995  ...   \n",
       "2020-03-26  76.379997  105.360001  29.680000  165.789993  195.210007  ...   \n",
       "2020-03-27  68.779999   96.400002  28.559999  158.339996  190.550003  ...   \n",
       "2020-03-30  71.949997   99.800003  28.650000  159.619995  196.100006  ...   \n",
       "\n",
       "                  PFE          PG        RTX         TRV         UNH  \\\n",
       "Date                                                                   \n",
       "2007-01-03  26.290001   64.540001  39.528004   53.549999   52.570000   \n",
       "2007-01-04  26.379999   64.050003  39.565765   53.099998   52.910000   \n",
       "2007-01-05  26.299999   63.500000  39.446194   52.410000   52.549999   \n",
       "2007-01-08  26.160000   63.639999  39.767151   52.020000   53.320000   \n",
       "2007-01-09  26.170000   63.480000  39.314034   51.889999   52.680000   \n",
       "...               ...         ...        ...         ...         ...   \n",
       "2020-03-24  29.700001  103.269997  54.600376   93.739998  219.800003   \n",
       "2020-03-25  29.750000  100.919998  60.534927   92.180000  234.490005   \n",
       "2020-03-26  31.750000  107.379997  65.852737   98.669998  255.389999   \n",
       "2020-03-27  30.900000  110.169998  61.139080   99.949997  242.449997   \n",
       "2020-03-30  32.669998  115.000000  61.982380  102.589996  251.279999   \n",
       "\n",
       "                     V         VZ        WBA         WMT        XOM  \n",
       "Date                                                                 \n",
       "2007-01-03         NaN  35.306732  46.070000   47.549999  74.110001  \n",
       "2007-01-04         NaN  35.502777  46.160000   47.779999  72.720001  \n",
       "2007-01-05         NaN  34.895969  45.500000   47.389999  73.239998  \n",
       "2007-01-08         NaN  34.363850  45.689999   47.000000  72.650002  \n",
       "2007-01-09         NaN  34.503880  45.930000   47.389999  72.089996  \n",
       "...                ...        ...        ...         ...        ...  \n",
       "2020-03-24  154.529999  49.990002  45.250000  115.029999  35.439999  \n",
       "2020-03-25  161.779999  49.939999  41.439999  109.400002  37.290001  \n",
       "2020-03-26  168.880005  53.540001  45.669998  109.820000  38.820000  \n",
       "2020-03-27  161.559998  52.770000  44.000000  109.580002  36.950001  \n",
       "2020-03-30  165.570007  54.770000  45.160000  115.190002  37.500000  \n",
       "\n",
       "[3334 rows x 30 columns]"
      ]
     },
     "execution_count": 2,
     "metadata": {},
     "output_type": "execute_result"
    }
   ],
   "source": [
    "const = pd.read_csv(\"const_prices.csv\", parse_dates = [\"Date\"], index_col = \"Date\")\n",
    "const"
   ]
  },
  {
   "cell_type": "code",
   "execution_count": 3,
   "metadata": {},
   "outputs": [
    {
     "name": "stdout",
     "output_type": "stream",
     "text": [
      "<class 'pandas.core.frame.DataFrame'>\n",
      "DatetimeIndex: 3334 entries, 2007-01-03 to 2020-03-30\n",
      "Data columns (total 30 columns):\n",
      " #   Column  Non-Null Count  Dtype  \n",
      "---  ------  --------------  -----  \n",
      " 0   AAPL    3333 non-null   float64\n",
      " 1   AXP     3333 non-null   float64\n",
      " 2   BA      3333 non-null   float64\n",
      " 3   CAT     3333 non-null   float64\n",
      " 4   CSCO    3333 non-null   float64\n",
      " 5   CVX     3333 non-null   float64\n",
      " 6   DIS     3333 non-null   float64\n",
      " 7   DOW     260 non-null    float64\n",
      " 8   GS      3333 non-null   float64\n",
      " 9   HD      3333 non-null   float64\n",
      " 10  IBM     3333 non-null   float64\n",
      " 11  INTC    3333 non-null   float64\n",
      " 12  JNJ     3333 non-null   float64\n",
      " 13  JPM     3333 non-null   float64\n",
      " 14  KO      3333 non-null   float64\n",
      " 15  MCD     3333 non-null   float64\n",
      " 16  MMM     3333 non-null   float64\n",
      " 17  MRK     3333 non-null   float64\n",
      " 18  MSFT    3333 non-null   float64\n",
      " 19  NKE     3333 non-null   float64\n",
      " 20  PFE     3333 non-null   float64\n",
      " 21  PG      3333 non-null   float64\n",
      " 22  RTX     3333 non-null   float64\n",
      " 23  TRV     3333 non-null   float64\n",
      " 24  UNH     3333 non-null   float64\n",
      " 25  V       3029 non-null   float64\n",
      " 26  VZ      3333 non-null   float64\n",
      " 27  WBA     3333 non-null   float64\n",
      " 28  WMT     3333 non-null   float64\n",
      " 29  XOM     3333 non-null   float64\n",
      "dtypes: float64(30)\n",
      "memory usage: 807.5 KB\n"
     ]
    }
   ],
   "source": [
    "const.info()"
   ]
  },
  {
   "cell_type": "code",
   "execution_count": null,
   "metadata": {},
   "outputs": [],
   "source": [
    "dji = pd.read_csv(\"dji.csv\", parse_dates = [\"Date\"], index_col = \"Date\")\n",
    "dji"
   ]
  },
  {
   "cell_type": "code",
   "execution_count": null,
   "metadata": {},
   "outputs": [],
   "source": [
    "dji.info()"
   ]
  },
  {
   "cell_type": "code",
   "execution_count": null,
   "metadata": {},
   "outputs": [],
   "source": [
    "dji = dji.Close.to_frame().copy()"
   ]
  },
  {
   "cell_type": "code",
   "execution_count": null,
   "metadata": {},
   "outputs": [],
   "source": [
    "dji"
   ]
  },
  {
   "cell_type": "code",
   "execution_count": null,
   "metadata": {},
   "outputs": [],
   "source": [
    "df = pd.concat([const, dji], axis = 1)\n",
    "df"
   ]
  },
  {
   "cell_type": "code",
   "execution_count": null,
   "metadata": {},
   "outputs": [],
   "source": [
    "df.rename(columns = {\"Close\": \"DJI\"}, inplace = True)"
   ]
  },
  {
   "cell_type": "code",
   "execution_count": null,
   "metadata": {},
   "outputs": [],
   "source": [
    "more_info = pd.read_csv(\"const.csv\")\n",
    "more_info"
   ]
  },
  {
   "cell_type": "code",
   "execution_count": null,
   "metadata": {},
   "outputs": [],
   "source": []
  },
  {
   "cell_type": "markdown",
   "metadata": {},
   "source": [
    "## Transforming the Data"
   ]
  },
  {
   "cell_type": "code",
   "execution_count": null,
   "metadata": {},
   "outputs": [],
   "source": [
    "import matplotlib.pyplot as plt\n",
    "import numpy as np\n",
    "plt.style.use(\"seaborn\")"
   ]
  },
  {
   "cell_type": "code",
   "execution_count": null,
   "metadata": {},
   "outputs": [],
   "source": [
    "df.plot(figsize = (20, 12), fontsize = 15, secondary_y = \"DJI\")\n",
    "plt.show()"
   ]
  },
  {
   "cell_type": "code",
   "execution_count": null,
   "metadata": {},
   "outputs": [],
   "source": [
    "df.div(df.iloc[0]).mul(100)"
   ]
  },
  {
   "cell_type": "code",
   "execution_count": null,
   "metadata": {},
   "outputs": [],
   "source": [
    "norm = df.div(df.iloc[0]).mul(100)\n",
    "norm"
   ]
  },
  {
   "cell_type": "code",
   "execution_count": null,
   "metadata": {},
   "outputs": [],
   "source": [
    "norm.plot(figsize = (20, 12), fontsize = 15)\n",
    "plt.legend(fontsize = 12)\n",
    "plt.show()"
   ]
  },
  {
   "cell_type": "code",
   "execution_count": null,
   "metadata": {},
   "outputs": [],
   "source": [
    "norm.drop(columns =[\"AAPL\"]).plot(figsize = (20, 12), fontsize = 15)\n",
    "plt.legend(fontsize = 12)\n",
    "plt.show()"
   ]
  },
  {
   "cell_type": "code",
   "execution_count": null,
   "metadata": {},
   "outputs": [],
   "source": [
    "ret = df.pct_change()"
   ]
  },
  {
   "cell_type": "code",
   "execution_count": null,
   "metadata": {},
   "outputs": [],
   "source": [
    "ret"
   ]
  },
  {
   "cell_type": "code",
   "execution_count": null,
   "metadata": {},
   "outputs": [],
   "source": [
    "ret.describe()"
   ]
  },
  {
   "cell_type": "code",
   "execution_count": null,
   "metadata": {},
   "outputs": [],
   "source": [
    "def summary_ann(returns):\n",
    "    summary = returns.agg([\"mean\", \"std\"]).T\n",
    "    summary[\"Return\"] = summary[\"mean\"] * 252\n",
    "    summary[\"Risk\"] = summary[\"std\"] * np.sqrt(252)\n",
    "    summary.drop(columns = [\"mean\", \"std\"], inplace = True)\n",
    "    return summary"
   ]
  },
  {
   "cell_type": "code",
   "execution_count": null,
   "metadata": {},
   "outputs": [],
   "source": [
    "summary = summary_ann(ret)\n",
    "summary"
   ]
  },
  {
   "cell_type": "code",
   "execution_count": null,
   "metadata": {},
   "outputs": [],
   "source": [
    "summary = summary.merge(more_info.loc[:, [\"Ticker\", \"Company\"]],\n",
    "                        how = \"left\", left_index= True, right_on = \"Ticker\")"
   ]
  },
  {
   "cell_type": "code",
   "execution_count": null,
   "metadata": {},
   "outputs": [],
   "source": [
    "summary.set_index(\"Company\", inplace = True)"
   ]
  },
  {
   "cell_type": "code",
   "execution_count": null,
   "metadata": {},
   "outputs": [],
   "source": [
    "summary"
   ]
  },
  {
   "cell_type": "code",
   "execution_count": null,
   "metadata": {},
   "outputs": [],
   "source": [
    "summary.rename(index = {np.nan : \"Dow Jones\"}, inplace = True)"
   ]
  },
  {
   "cell_type": "code",
   "execution_count": null,
   "metadata": {},
   "outputs": [],
   "source": [
    "summary"
   ]
  },
  {
   "cell_type": "code",
   "execution_count": null,
   "metadata": {},
   "outputs": [],
   "source": []
  },
  {
   "cell_type": "markdown",
   "metadata": {},
   "source": [
    "## Explanatory Data Analysis"
   ]
  },
  {
   "cell_type": "code",
   "execution_count": null,
   "metadata": {},
   "outputs": [],
   "source": [
    "ret.info()"
   ]
  },
  {
   "cell_type": "code",
   "execution_count": null,
   "metadata": {},
   "outputs": [],
   "source": [
    "summary2 = summary.drop(index = \"Dow Inc.\")\n",
    "summary2"
   ]
  },
  {
   "cell_type": "code",
   "execution_count": null,
   "metadata": {},
   "outputs": [],
   "source": [
    "summary2.sort_values(by = \"Return\", ascending = False).plot(kind = \"bar\", figsize = (20, 12), \n",
    "                                                            fontsize = 15)\n",
    "plt.legend(fontsize = 15)\n",
    "plt.show()"
   ]
  },
  {
   "cell_type": "code",
   "execution_count": null,
   "metadata": {},
   "outputs": [],
   "source": [
    "summary2.sort_values(by = \"Risk\", ascending = False).plot(kind = \"bar\", figsize = (20, 12), \n",
    "                                                          fontsize = 15)\n",
    "plt.legend(fontsize = 15)\n",
    "plt.show()"
   ]
  },
  {
   "cell_type": "code",
   "execution_count": null,
   "metadata": {},
   "outputs": [],
   "source": [
    "summary2.set_index(\"Ticker\", inplace = True)"
   ]
  },
  {
   "cell_type": "code",
   "execution_count": null,
   "metadata": {},
   "outputs": [],
   "source": [
    "summary2"
   ]
  },
  {
   "cell_type": "code",
   "execution_count": null,
   "metadata": {},
   "outputs": [],
   "source": [
    "summary2.plot(kind = \"scatter\", x = \"Risk\", y = \"Return\", figsize = (15,12), s = 50, fontsize = 15)\n",
    "for i in summary2.index:\n",
    "    plt.annotate(i, xy=(summary2.loc[i, \"Risk\"]+0.002, summary2.loc[i, \"Return\"]+0.002), size = 15)\n",
    "plt.xlabel(\"ann. Risk(std)\", fontsize = 15)\n",
    "plt.ylabel(\"ann. Return\", fontsize = 15)\n",
    "plt.title(\"Risk/Return\", fontsize = 20)\n",
    "plt.show()"
   ]
  },
  {
   "cell_type": "code",
   "execution_count": null,
   "metadata": {},
   "outputs": [],
   "source": [
    "corr_matrix = ret.corr()\n",
    "corr_matrix"
   ]
  },
  {
   "cell_type": "code",
   "execution_count": null,
   "metadata": {},
   "outputs": [],
   "source": [
    "import seaborn as sns"
   ]
  },
  {
   "cell_type": "code",
   "execution_count": null,
   "metadata": {},
   "outputs": [],
   "source": [
    "plt.figure(figsize = (20, 12))\n",
    "sns.heatmap(corr_matrix, cmap='RdYlGn',annot=True, vmin = 0.2, vmax = 0.8)\n",
    "plt.show()"
   ]
  },
  {
   "cell_type": "code",
   "execution_count": null,
   "metadata": {},
   "outputs": [],
   "source": []
  },
  {
   "cell_type": "markdown",
   "metadata": {},
   "source": [
    "## Index Tracking - an Introduction"
   ]
  },
  {
   "cell_type": "markdown",
   "metadata": {},
   "source": [
    "Plan: Track the DJI with only __10 Stocks__ (Tracking Portfolio)."
   ]
  },
  {
   "cell_type": "markdown",
   "metadata": {},
   "source": [
    "Criteria to select Tracking Portfolio: Those 10 Stocks with the __lowest individual Tracking Error__ (TE) in the Training/Fitting Period."
   ]
  },
  {
   "cell_type": "markdown",
   "metadata": {},
   "source": [
    "- Training/Fitting Period: 2017 & 2018\n",
    "- (Forward) Testing Period: 2019"
   ]
  },
  {
   "cell_type": "markdown",
   "metadata": {},
   "source": [
    "Once we have identified the 10 Tracking Stocks we need to find their __optimal weights__ in the Tracking Portfolio that __minimize TE__."
   ]
  },
  {
   "cell_type": "code",
   "execution_count": null,
   "metadata": {},
   "outputs": [],
   "source": [
    "df.info()"
   ]
  },
  {
   "cell_type": "code",
   "execution_count": null,
   "metadata": {},
   "outputs": [],
   "source": [
    "df2 = df.loc[\"2017\":\"2018\"].copy()\n",
    "df2"
   ]
  },
  {
   "cell_type": "code",
   "execution_count": null,
   "metadata": {},
   "outputs": [],
   "source": [
    "norm2 = df2.div(df2.iloc[0]).mul(100)\n",
    "norm2"
   ]
  },
  {
   "cell_type": "code",
   "execution_count": null,
   "metadata": {},
   "outputs": [],
   "source": [
    "ret2 = ret.loc[\"2017\":\"2018\"].copy()\n",
    "ret2"
   ]
  },
  {
   "cell_type": "code",
   "execution_count": null,
   "metadata": {},
   "outputs": [],
   "source": [
    "ret_diff = ret2.sub(ret2.DJI, axis = 0)\n",
    "ret_diff"
   ]
  },
  {
   "cell_type": "code",
   "execution_count": null,
   "metadata": {},
   "outputs": [],
   "source": [
    "ret_diff.agg([\"mean\", \"std\"]).T"
   ]
  },
  {
   "cell_type": "code",
   "execution_count": null,
   "metadata": {},
   "outputs": [],
   "source": []
  },
  {
   "cell_type": "markdown",
   "metadata": {},
   "source": [
    "## Selecting the Tracking Stocks"
   ]
  },
  {
   "cell_type": "code",
   "execution_count": null,
   "metadata": {},
   "outputs": [],
   "source": [
    "def tracking_ann(returns):\n",
    "    summary = returns.agg([\"mean\", \"std\"]).T\n",
    "    summary[\"Premium\"] = summary[\"mean\"] * 252\n",
    "    summary[\"TE\"] = summary[\"std\"] * np.sqrt(252)\n",
    "    summary.drop(columns = [\"mean\", \"std\"], inplace = True)\n",
    "    return summary"
   ]
  },
  {
   "cell_type": "code",
   "execution_count": null,
   "metadata": {},
   "outputs": [],
   "source": [
    "tracking = tracking_ann(ret_diff)\n",
    "tracking"
   ]
  },
  {
   "cell_type": "code",
   "execution_count": null,
   "metadata": {},
   "outputs": [],
   "source": [
    "tracking.sort_values(by = \"TE\")"
   ]
  },
  {
   "cell_type": "code",
   "execution_count": null,
   "metadata": {},
   "outputs": [],
   "source": [
    "noa = 10"
   ]
  },
  {
   "cell_type": "code",
   "execution_count": null,
   "metadata": {},
   "outputs": [],
   "source": [
    "tracking_stocks = tracking.sort_values(by = \"TE\").index[:noa+1]"
   ]
  },
  {
   "cell_type": "code",
   "execution_count": null,
   "metadata": {},
   "outputs": [],
   "source": [
    "tracking_stocks"
   ]
  },
  {
   "cell_type": "code",
   "execution_count": null,
   "metadata": {},
   "outputs": [],
   "source": [
    "norm_track = norm2.loc[:, tracking_stocks]\n",
    "norm_track"
   ]
  },
  {
   "cell_type": "code",
   "execution_count": null,
   "metadata": {},
   "outputs": [],
   "source": [
    "norm_track.plot(figsize = (20, 12), fontsize = 15)\n",
    "plt.legend(fontsize = 12)\n",
    "plt.show()"
   ]
  },
  {
   "cell_type": "code",
   "execution_count": null,
   "metadata": {},
   "outputs": [],
   "source": [
    "tracking_stocks = tracking_stocks[1:]\n",
    "tracking_stocks"
   ]
  },
  {
   "cell_type": "code",
   "execution_count": null,
   "metadata": {},
   "outputs": [],
   "source": []
  },
  {
   "cell_type": "markdown",
   "metadata": {},
   "source": [
    "## Index Tracking - A simple Tracking Portfolio"
   ]
  },
  {
   "cell_type": "code",
   "execution_count": null,
   "metadata": {},
   "outputs": [],
   "source": [
    "tracking_stocks"
   ]
  },
  {
   "cell_type": "code",
   "execution_count": null,
   "metadata": {},
   "outputs": [],
   "source": [
    "#equal weights (starting point of optimization)\n",
    "eweights = np.full(noa, 1/noa)\n",
    "eweights"
   ]
  },
  {
   "cell_type": "code",
   "execution_count": null,
   "metadata": {},
   "outputs": [],
   "source": [
    "ret2.loc[:, tracking_stocks].mean(axis = 1)"
   ]
  },
  {
   "cell_type": "code",
   "execution_count": null,
   "metadata": {},
   "outputs": [],
   "source": [
    "ret2.loc[:, tracking_stocks].dot(eweights)"
   ]
  },
  {
   "cell_type": "code",
   "execution_count": null,
   "metadata": {},
   "outputs": [],
   "source": [
    "#calculate portfolio returns (based on weights)\n",
    "def port_ret(weights):\n",
    "    return ret2.loc[:, tracking_stocks].dot(weights)"
   ]
  },
  {
   "cell_type": "code",
   "execution_count": null,
   "metadata": {},
   "outputs": [],
   "source": [
    "#define function to be minimized -> minimize tracking error of tracking portfolio\n",
    "def tracking_error(weights): \n",
    "     return port_ret(weights).sub(ret2.DJI).std() * np.sqrt(252)"
   ]
  },
  {
   "cell_type": "code",
   "execution_count": null,
   "metadata": {},
   "outputs": [],
   "source": [
    "tracking_error(eweights)"
   ]
  },
  {
   "cell_type": "code",
   "execution_count": null,
   "metadata": {},
   "outputs": [],
   "source": [
    "ew_port = port_ret(eweights)[1:].add(1).cumprod().mul(100)\n",
    "ew_port"
   ]
  },
  {
   "cell_type": "code",
   "execution_count": null,
   "metadata": {},
   "outputs": [],
   "source": [
    "norm_track[\"EW_Port\"] = ew_port\n",
    "norm_track.iloc[0, -1] = 100"
   ]
  },
  {
   "cell_type": "code",
   "execution_count": null,
   "metadata": {},
   "outputs": [],
   "source": [
    "norm_track"
   ]
  },
  {
   "cell_type": "code",
   "execution_count": null,
   "metadata": {},
   "outputs": [],
   "source": [
    "norm_track[[\"EW_Port\", \"DJI\"]].plot(figsize = (15, 10))\n",
    "plt.legend(fontsize = 20, loc = 2)\n",
    "plt.show()"
   ]
  },
  {
   "cell_type": "code",
   "execution_count": null,
   "metadata": {},
   "outputs": [],
   "source": []
  },
  {
   "cell_type": "markdown",
   "metadata": {},
   "source": [
    "## Index Tracking - The optimal Tracking Portfolio"
   ]
  },
  {
   "cell_type": "code",
   "execution_count": null,
   "metadata": {},
   "outputs": [],
   "source": [
    "import scipy.optimize as sco #import scipy optimize"
   ]
  },
  {
   "cell_type": "code",
   "execution_count": null,
   "metadata": {},
   "outputs": [],
   "source": [
    "#constraint: weights must sum up to 1 -> sum of weights - 1 = 0\n",
    "cons = ({\"type\": \"eq\", \"fun\": lambda x: np.sum(x) - 1})\n",
    "cons"
   ]
  },
  {
   "cell_type": "code",
   "execution_count": null,
   "metadata": {},
   "outputs": [],
   "source": [
    "#bounds: all weights shall be between 0 and 1 -> can be changed\n",
    "bnds =  tuple((0,1) for x in range(noa))\n",
    "bnds"
   ]
  },
  {
   "cell_type": "code",
   "execution_count": null,
   "metadata": {},
   "outputs": [],
   "source": [
    "#run optimization based on function to be minimized, starting with equal weights and based on respective bounds and constraints\n",
    "opts = sco.minimize(tracking_error, eweights, method = \"SLSQP\", bounds = bnds, constraints= cons)"
   ]
  },
  {
   "cell_type": "code",
   "execution_count": null,
   "metadata": {},
   "outputs": [],
   "source": [
    "#output of optimization\n",
    "opts"
   ]
  },
  {
   "cell_type": "code",
   "execution_count": null,
   "metadata": {},
   "outputs": [],
   "source": [
    "#getting the optimal weights\n",
    "optimal_weights = opts[\"x\"]\n",
    "optimal_weights"
   ]
  },
  {
   "cell_type": "code",
   "execution_count": null,
   "metadata": {},
   "outputs": [],
   "source": [
    "pd.Series(index = tracking_stocks, data = optimal_weights)"
   ]
  },
  {
   "cell_type": "code",
   "execution_count": null,
   "metadata": {},
   "outputs": [],
   "source": [
    "opt_port = port_ret(optimal_weights)[1:].add(1).cumprod().mul(100)\n",
    "opt_port"
   ]
  },
  {
   "cell_type": "code",
   "execution_count": null,
   "metadata": {},
   "outputs": [],
   "source": [
    "norm_track[\"Opt_Port\"] = opt_port\n",
    "norm_track.iloc[0, -1] = 100"
   ]
  },
  {
   "cell_type": "code",
   "execution_count": null,
   "metadata": {},
   "outputs": [],
   "source": [
    "norm_track"
   ]
  },
  {
   "cell_type": "code",
   "execution_count": null,
   "metadata": {},
   "outputs": [],
   "source": [
    "norm_track[[\"Opt_Port\", \"DJI\"]].plot(figsize = (15, 10))\n",
    "plt.legend(fontsize = 20, loc = 2)\n",
    "plt.show()"
   ]
  },
  {
   "cell_type": "code",
   "execution_count": null,
   "metadata": {},
   "outputs": [],
   "source": [
    "summary_ann(norm_track[[\"Opt_Port\", \"EW_Port\", \"DJI\"]].pct_change())"
   ]
  },
  {
   "cell_type": "code",
   "execution_count": null,
   "metadata": {},
   "outputs": [],
   "source": []
  },
  {
   "cell_type": "markdown",
   "metadata": {},
   "source": [
    "## Forward Testing (Part 1)"
   ]
  },
  {
   "cell_type": "code",
   "execution_count": null,
   "metadata": {},
   "outputs": [],
   "source": [
    "df"
   ]
  },
  {
   "cell_type": "code",
   "execution_count": null,
   "metadata": {},
   "outputs": [],
   "source": [
    "ret"
   ]
  },
  {
   "cell_type": "code",
   "execution_count": null,
   "metadata": {},
   "outputs": [],
   "source": [
    "tracking_stocks"
   ]
  },
  {
   "cell_type": "code",
   "execution_count": null,
   "metadata": {},
   "outputs": [],
   "source": [
    "def tracking_error_gen(data, tracking_stocks, weights, index, start, end):\n",
    "    return data.loc[start:end, tracking_stocks].dot(weights).sub(ret.loc[start:end, index]).std() * np.sqrt(252)   "
   ]
  },
  {
   "cell_type": "code",
   "execution_count": null,
   "metadata": {},
   "outputs": [],
   "source": [
    "def visual(data, tracking_stocks, weights, index, start, end):\n",
    "    track = data.loc[start:end, tracking_stocks].dot(weights).add(1).cumprod().mul(100)\n",
    "    track.name = \"Portfolio\"\n",
    "    index = data.loc[start:end, index].add(1).cumprod().mul(100)\n",
    "    plt.figure(figsize = (12,8))\n",
    "    track.plot()\n",
    "    index.plot()\n",
    "    plt.legend(fontsize = 20, loc = 2)\n",
    "    plt.show()"
   ]
  },
  {
   "cell_type": "code",
   "execution_count": null,
   "metadata": {},
   "outputs": [],
   "source": [
    "tracking_error_gen(ret, tracking_stocks, optimal_weights, \"DJI\", \"2017-01-01\", \"2018-12-31\")"
   ]
  },
  {
   "cell_type": "code",
   "execution_count": null,
   "metadata": {},
   "outputs": [],
   "source": [
    "forward_te = tracking_error_gen(ret, tracking_stocks, optimal_weights, \"DJI\", \n",
    "                                \"2019-01-01\", \"2019-12-31\")\n",
    "forward_te"
   ]
  },
  {
   "cell_type": "code",
   "execution_count": null,
   "metadata": {},
   "outputs": [],
   "source": [
    "visual(ret, tracking_stocks, optimal_weights, \"DJI\", \"2019-01-01\", \"2019-12-31\")"
   ]
  },
  {
   "cell_type": "code",
   "execution_count": null,
   "metadata": {},
   "outputs": [],
   "source": []
  },
  {
   "cell_type": "markdown",
   "metadata": {},
   "source": [
    "## Forward Testing (Part 2)"
   ]
  },
  {
   "cell_type": "code",
   "execution_count": null,
   "metadata": {},
   "outputs": [],
   "source": [
    "bucket = df.columns.drop([\"DOW\", \"DJI\"])\n",
    "bucket"
   ]
  },
  {
   "cell_type": "code",
   "execution_count": null,
   "metadata": {},
   "outputs": [],
   "source": [
    "np.random.choice(bucket, size = noa, replace = False)"
   ]
  },
  {
   "cell_type": "code",
   "execution_count": null,
   "metadata": {},
   "outputs": [],
   "source": [
    "random_numbers = np.random.random(noa)\n",
    "random_weights = random_numbers / random_numbers.sum()\n",
    "random_weights.sum()"
   ]
  },
  {
   "cell_type": "code",
   "execution_count": null,
   "metadata": {},
   "outputs": [],
   "source": [
    "np.random.seed(123)\n",
    "random_stocks = np.random.choice(bucket, size = noa, replace = False)\n",
    "random_numbers = np.random.random(noa)\n",
    "random_weights = random_numbers / random_numbers.sum()"
   ]
  },
  {
   "cell_type": "code",
   "execution_count": null,
   "metadata": {},
   "outputs": [],
   "source": [
    "print(random_stocks, random_weights)"
   ]
  },
  {
   "cell_type": "code",
   "execution_count": null,
   "metadata": {},
   "outputs": [],
   "source": [
    "tracking_error_gen(ret, random_stocks, random_weights, \"DJI\", \"2019-01-01\", \"2019-12-31\")"
   ]
  },
  {
   "cell_type": "code",
   "execution_count": null,
   "metadata": {},
   "outputs": [],
   "source": [
    "forward_te"
   ]
  },
  {
   "cell_type": "code",
   "execution_count": null,
   "metadata": {},
   "outputs": [],
   "source": [
    "visual(ret, random_stocks, random_weights, \"DJI\", \"2019-01-01\", \"2019-12-31\")"
   ]
  },
  {
   "cell_type": "code",
   "execution_count": null,
   "metadata": {},
   "outputs": [],
   "source": [
    "tes = np.empty(10000)\n",
    "np.random.seed(123)\n",
    "for i in range(10000):\n",
    "    random_numbers = np.random.random(noa)\n",
    "    random_weights = random_numbers / random_numbers.sum()\n",
    "    random_stocks = np.random.choice(bucket, size = noa, replace = False)\n",
    "       \n",
    "    tes[i] = tracking_error_gen(ret, random_stocks, random_weights, \"DJI\", \"2019-01-01\", \"2019-12-31\")"
   ]
  },
  {
   "cell_type": "code",
   "execution_count": null,
   "metadata": {},
   "outputs": [],
   "source": [
    "(tes < forward_te).mean()"
   ]
  },
  {
   "cell_type": "code",
   "execution_count": null,
   "metadata": {},
   "outputs": [],
   "source": [
    "plt.figure(figsize = (12, 8))\n",
    "plt.hist(tes, bins = 100)\n",
    "plt.show()"
   ]
  },
  {
   "cell_type": "code",
   "execution_count": 51,
   "metadata": {},
   "outputs": [
    {
     "data": {
      "text/plain": [
       "8840000"
      ]
     },
     "execution_count": 51,
     "metadata": {},
     "output_type": "execute_result"
    }
   ],
   "source": [
    "a=10*1700*52*10\n",
    "a"
   ]
  },
  {
   "cell_type": "code",
   "execution_count": 52,
   "metadata": {},
   "outputs": [
    {
     "data": {
      "text/plain": [
       "3.536e-10"
      ]
     },
     "execution_count": 52,
     "metadata": {},
     "output_type": "execute_result"
    }
   ],
   "source": [
    "0.00000884/25000"
   ]
  },
  {
   "cell_type": "code",
   "execution_count": null,
   "metadata": {},
   "outputs": [],
   "source": []
  }
 ],
 "metadata": {
  "kernelspec": {
   "display_name": "Python 3 (ipykernel)",
   "language": "python",
   "name": "python3"
  },
  "language_info": {
   "codemirror_mode": {
    "name": "ipython",
    "version": 3
   },
   "file_extension": ".py",
   "mimetype": "text/x-python",
   "name": "python",
   "nbconvert_exporter": "python",
   "pygments_lexer": "ipython3",
   "version": "3.10.9"
  }
 },
 "nbformat": 4,
 "nbformat_minor": 4
}
