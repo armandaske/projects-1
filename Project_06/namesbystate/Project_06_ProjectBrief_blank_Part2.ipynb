{
 "cells": [
  {
   "cell_type": "markdown",
   "metadata": {},
   "source": [
    "# Project 6: Importing & Merging many files (Baby Names Dataset) - Part 2"
   ]
  },
  {
   "cell_type": "markdown",
   "metadata": {},
   "source": [
    "# Project Brief for Self-Coders"
   ]
  },
  {
   "cell_type": "markdown",
   "metadata": {},
   "source": [
    "Here you´ll have the opportunity to code major parts of Project 6 (Part 2) on your own. If you need any help or inspiration, have a look at the Videos or the Jupyter Notebook with the full code. <br> <br>\n",
    "Keep in mind that it´s all about __getting the right results/conclusions__. It´s not about finding the identical code. Things can be coded in many different ways. Even if you come to the same conclusions, it´s very unlikely that we have the very same code. "
   ]
  },
  {
   "cell_type": "markdown",
   "metadata": {},
   "source": [
    "## Getting the Files from the Web"
   ]
  },
  {
   "cell_type": "markdown",
   "metadata": {},
   "source": [
    "1. __Go__ to https://catalog.data.gov/dataset/baby-names-from-social-security-card-applications-state-and-district-of-columbia-data and __download__ and __unzip__ the file."
   ]
  },
  {
   "cell_type": "code",
   "execution_count": 1,
   "metadata": {},
   "outputs": [],
   "source": [
    "import pandas as pd\n",
    "import numpy as np"
   ]
  },
  {
   "cell_type": "markdown",
   "metadata": {},
   "source": [
    "## Importing one File & Understanding the Data Structure "
   ]
  },
  {
   "cell_type": "markdown",
   "metadata": {},
   "source": [
    "2. __Load__ the file __\"AK.txt\"__ into Pandas and __inspect__."
   ]
  },
  {
   "cell_type": "code",
   "execution_count": 3,
   "metadata": {},
   "outputs": [
    {
     "data": {
      "text/html": [
       "<div>\n",
       "<style scoped>\n",
       "    .dataframe tbody tr th:only-of-type {\n",
       "        vertical-align: middle;\n",
       "    }\n",
       "\n",
       "    .dataframe tbody tr th {\n",
       "        vertical-align: top;\n",
       "    }\n",
       "\n",
       "    .dataframe thead th {\n",
       "        text-align: right;\n",
       "    }\n",
       "</style>\n",
       "<table border=\"1\" class=\"dataframe\">\n",
       "  <thead>\n",
       "    <tr style=\"text-align: right;\">\n",
       "      <th></th>\n",
       "      <th>state</th>\n",
       "      <th>sex</th>\n",
       "      <th>year</th>\n",
       "      <th>name</th>\n",
       "      <th>count</th>\n",
       "    </tr>\n",
       "  </thead>\n",
       "  <tbody>\n",
       "    <tr>\n",
       "      <th>0</th>\n",
       "      <td>AK</td>\n",
       "      <td>F</td>\n",
       "      <td>1910</td>\n",
       "      <td>Mary</td>\n",
       "      <td>14</td>\n",
       "    </tr>\n",
       "    <tr>\n",
       "      <th>1</th>\n",
       "      <td>AK</td>\n",
       "      <td>F</td>\n",
       "      <td>1910</td>\n",
       "      <td>Annie</td>\n",
       "      <td>12</td>\n",
       "    </tr>\n",
       "    <tr>\n",
       "      <th>2</th>\n",
       "      <td>AK</td>\n",
       "      <td>F</td>\n",
       "      <td>1910</td>\n",
       "      <td>Anna</td>\n",
       "      <td>10</td>\n",
       "    </tr>\n",
       "    <tr>\n",
       "      <th>3</th>\n",
       "      <td>AK</td>\n",
       "      <td>F</td>\n",
       "      <td>1910</td>\n",
       "      <td>Margaret</td>\n",
       "      <td>8</td>\n",
       "    </tr>\n",
       "    <tr>\n",
       "      <th>4</th>\n",
       "      <td>AK</td>\n",
       "      <td>F</td>\n",
       "      <td>1910</td>\n",
       "      <td>Helen</td>\n",
       "      <td>7</td>\n",
       "    </tr>\n",
       "    <tr>\n",
       "      <th>...</th>\n",
       "      <td>...</td>\n",
       "      <td>...</td>\n",
       "      <td>...</td>\n",
       "      <td>...</td>\n",
       "      <td>...</td>\n",
       "    </tr>\n",
       "    <tr>\n",
       "      <th>30526</th>\n",
       "      <td>AK</td>\n",
       "      <td>M</td>\n",
       "      <td>2023</td>\n",
       "      <td>Raphael</td>\n",
       "      <td>5</td>\n",
       "    </tr>\n",
       "    <tr>\n",
       "      <th>30527</th>\n",
       "      <td>AK</td>\n",
       "      <td>M</td>\n",
       "      <td>2023</td>\n",
       "      <td>Richard</td>\n",
       "      <td>5</td>\n",
       "    </tr>\n",
       "    <tr>\n",
       "      <th>30528</th>\n",
       "      <td>AK</td>\n",
       "      <td>M</td>\n",
       "      <td>2023</td>\n",
       "      <td>Seth</td>\n",
       "      <td>5</td>\n",
       "    </tr>\n",
       "    <tr>\n",
       "      <th>30529</th>\n",
       "      <td>AK</td>\n",
       "      <td>M</td>\n",
       "      <td>2023</td>\n",
       "      <td>Stetson</td>\n",
       "      <td>5</td>\n",
       "    </tr>\n",
       "    <tr>\n",
       "      <th>30530</th>\n",
       "      <td>AK</td>\n",
       "      <td>M</td>\n",
       "      <td>2023</td>\n",
       "      <td>Timothy</td>\n",
       "      <td>5</td>\n",
       "    </tr>\n",
       "  </tbody>\n",
       "</table>\n",
       "<p>30531 rows × 5 columns</p>\n",
       "</div>"
      ],
      "text/plain": [
       "      state sex  year      name  count\n",
       "0        AK   F  1910      Mary     14\n",
       "1        AK   F  1910     Annie     12\n",
       "2        AK   F  1910      Anna     10\n",
       "3        AK   F  1910  Margaret      8\n",
       "4        AK   F  1910     Helen      7\n",
       "...     ...  ..   ...       ...    ...\n",
       "30526    AK   M  2023   Raphael      5\n",
       "30527    AK   M  2023   Richard      5\n",
       "30528    AK   M  2023      Seth      5\n",
       "30529    AK   M  2023   Stetson      5\n",
       "30530    AK   M  2023   Timothy      5\n",
       "\n",
       "[30531 rows x 5 columns]"
      ]
     },
     "execution_count": 3,
     "metadata": {},
     "output_type": "execute_result"
    }
   ],
   "source": [
    "df= pd.read_csv('AK.txt', names=['state','sex','year','name','count'])\n",
    "df"
   ]
  },
  {
   "cell_type": "code",
   "execution_count": 4,
   "metadata": {},
   "outputs": [
    {
     "name": "stdout",
     "output_type": "stream",
     "text": [
      "<class 'pandas.core.frame.DataFrame'>\n",
      "RangeIndex: 30531 entries, 0 to 30530\n",
      "Data columns (total 5 columns):\n",
      " #   Column  Non-Null Count  Dtype \n",
      "---  ------  --------------  ----- \n",
      " 0   state   30531 non-null  object\n",
      " 1   sex     30531 non-null  object\n",
      " 2   year    30531 non-null  int64 \n",
      " 3   name    30531 non-null  object\n",
      " 4   count   30531 non-null  int64 \n",
      "dtypes: int64(2), object(3)\n",
      "memory usage: 1.2+ MB\n"
     ]
    }
   ],
   "source": [
    "df.info()"
   ]
  },
  {
   "cell_type": "markdown",
   "metadata": {},
   "source": [
    "## The glob module"
   ]
  },
  {
   "cell_type": "markdown",
   "metadata": {},
   "source": [
    "3. From glob import glob."
   ]
  },
  {
   "cell_type": "code",
   "execution_count": 5,
   "metadata": {},
   "outputs": [],
   "source": [
    "from glob import glob"
   ]
  },
  {
   "cell_type": "markdown",
   "metadata": {},
   "source": [
    "4. __Find__ all filenames with the structure __\"A?.txt\"__ in your current directory (? is a single character wildcard)."
   ]
  },
  {
   "cell_type": "code",
   "execution_count": 13,
   "metadata": {},
   "outputs": [
    {
     "data": {
      "text/plain": [
       "['AK.TXT', 'AL.TXT', 'AR.TXT', 'AZ.TXT']"
      ]
     },
     "execution_count": 13,
     "metadata": {},
     "output_type": "execute_result"
    }
   ],
   "source": [
    "glob('a?.txt')"
   ]
  },
  {
   "cell_type": "markdown",
   "metadata": {},
   "source": [
    "5. __Find__ all filenames with the following structure in your current directory and save the resulting list in a variable:"
   ]
  },
  {
   "cell_type": "code",
   "execution_count": 11,
   "metadata": {},
   "outputs": [
    {
     "data": {
      "text/plain": [
       "['AK.TXT',\n",
       " 'AL.TXT',\n",
       " 'AR.TXT',\n",
       " 'AZ.TXT',\n",
       " 'CA.TXT',\n",
       " 'CO.TXT',\n",
       " 'CT.TXT',\n",
       " 'DC.TXT',\n",
       " 'DE.TXT',\n",
       " 'FL.TXT',\n",
       " 'GA.TXT',\n",
       " 'HI.TXT',\n",
       " 'IA.TXT',\n",
       " 'ID.TXT',\n",
       " 'IL.TXT',\n",
       " 'IN.TXT',\n",
       " 'KS.TXT',\n",
       " 'KY.TXT',\n",
       " 'LA.TXT',\n",
       " 'MA.TXT',\n",
       " 'MD.TXT',\n",
       " 'ME.TXT',\n",
       " 'MI.TXT',\n",
       " 'MN.TXT',\n",
       " 'MO.TXT',\n",
       " 'MS.TXT',\n",
       " 'MT.TXT',\n",
       " 'NC.TXT',\n",
       " 'ND.TXT',\n",
       " 'NE.TXT',\n",
       " 'NH.TXT',\n",
       " 'NJ.TXT',\n",
       " 'NM.TXT',\n",
       " 'NV.TXT',\n",
       " 'NY.TXT',\n",
       " 'OH.TXT',\n",
       " 'OK.TXT',\n",
       " 'OR.TXT',\n",
       " 'PA.TXT',\n",
       " 'RI.TXT',\n",
       " 'SC.TXT',\n",
       " 'SD.TXT',\n",
       " 'TN.TXT',\n",
       " 'TX.TXT',\n",
       " 'UT.TXT',\n",
       " 'VA.TXT',\n",
       " 'VT.TXT',\n",
       " 'WA.TXT',\n",
       " 'WI.TXT',\n",
       " 'WV.TXT',\n",
       " 'WY.TXT']"
      ]
     },
     "execution_count": 11,
     "metadata": {},
     "output_type": "execute_result"
    }
   ],
   "source": [
    "filenames=glob(\"*.txt\") # (* is a wildcard for zero or many characters)\n",
    "filenames"
   ]
  },
  {
   "cell_type": "code",
   "execution_count": 18,
   "metadata": {},
   "outputs": [
    {
     "data": {
      "text/plain": [
       "['AK',\n",
       " 'AL',\n",
       " 'AR',\n",
       " 'AZ',\n",
       " 'CA',\n",
       " 'CO',\n",
       " 'CT',\n",
       " 'DC',\n",
       " 'DE',\n",
       " 'FL',\n",
       " 'GA',\n",
       " 'HI',\n",
       " 'IA',\n",
       " 'ID',\n",
       " 'IL',\n",
       " 'IN',\n",
       " 'KS',\n",
       " 'KY',\n",
       " 'LA',\n",
       " 'MA',\n",
       " 'MD',\n",
       " 'ME',\n",
       " 'MI',\n",
       " 'MN',\n",
       " 'MO',\n",
       " 'MS',\n",
       " 'MT',\n",
       " 'NC',\n",
       " 'ND',\n",
       " 'NE',\n",
       " 'NH',\n",
       " 'NJ',\n",
       " 'NM',\n",
       " 'NV',\n",
       " 'NY',\n",
       " 'OH',\n",
       " 'OK',\n",
       " 'OR',\n",
       " 'PA',\n",
       " 'RI',\n",
       " 'SC',\n",
       " 'SD',\n",
       " 'TN',\n",
       " 'TX',\n",
       " 'UT',\n",
       " 'VA',\n",
       " 'VT',\n",
       " 'WA',\n",
       " 'WI',\n",
       " 'WV',\n",
       " 'WY']"
      ]
     },
     "execution_count": 18,
     "metadata": {},
     "output_type": "execute_result"
    }
   ],
   "source": [
    "abbr=list(map(lambda x: x.split('.')[0],filenames))\n",
    "abbr"
   ]
  },
  {
   "cell_type": "markdown",
   "metadata": {},
   "source": [
    "# Importing & merging many Files (complex case)"
   ]
  },
  {
   "cell_type": "markdown",
   "metadata": {},
   "source": [
    "6. __Load__ all files (*.txt) and __merge/concatenate__ all files into one Pandas DataFrame."
   ]
  },
  {
   "cell_type": "code",
   "execution_count": 26,
   "metadata": {},
   "outputs": [],
   "source": [
    "concatenated_state_df=pd.DataFrame()\n",
    "for state in filenames:\n",
    "    df_=pd.read_csv(state,names=['state','sex','year','name','count'])\n",
    "    concatenated_state_df= pd.concat([concatenated_state_df,df_])"
   ]
  },
  {
   "cell_type": "markdown",
   "metadata": {},
   "source": [
    "7. Create a __RangeIndex__ and __save__ the DataFrame (with columns \"State\", \"Gender\", \"Year\", \"Name\", \"Count\") in a new csv-file."
   ]
  },
  {
   "cell_type": "code",
   "execution_count": 27,
   "metadata": {},
   "outputs": [
    {
     "data": {
      "text/html": [
       "<div>\n",
       "<style scoped>\n",
       "    .dataframe tbody tr th:only-of-type {\n",
       "        vertical-align: middle;\n",
       "    }\n",
       "\n",
       "    .dataframe tbody tr th {\n",
       "        vertical-align: top;\n",
       "    }\n",
       "\n",
       "    .dataframe thead th {\n",
       "        text-align: right;\n",
       "    }\n",
       "</style>\n",
       "<table border=\"1\" class=\"dataframe\">\n",
       "  <thead>\n",
       "    <tr style=\"text-align: right;\">\n",
       "      <th></th>\n",
       "      <th>state</th>\n",
       "      <th>sex</th>\n",
       "      <th>year</th>\n",
       "      <th>name</th>\n",
       "      <th>count</th>\n",
       "    </tr>\n",
       "  </thead>\n",
       "  <tbody>\n",
       "    <tr>\n",
       "      <th>0</th>\n",
       "      <td>AK</td>\n",
       "      <td>F</td>\n",
       "      <td>1910</td>\n",
       "      <td>Mary</td>\n",
       "      <td>14</td>\n",
       "    </tr>\n",
       "    <tr>\n",
       "      <th>1</th>\n",
       "      <td>AK</td>\n",
       "      <td>F</td>\n",
       "      <td>1910</td>\n",
       "      <td>Annie</td>\n",
       "      <td>12</td>\n",
       "    </tr>\n",
       "    <tr>\n",
       "      <th>2</th>\n",
       "      <td>AK</td>\n",
       "      <td>F</td>\n",
       "      <td>1910</td>\n",
       "      <td>Anna</td>\n",
       "      <td>10</td>\n",
       "    </tr>\n",
       "    <tr>\n",
       "      <th>3</th>\n",
       "      <td>AK</td>\n",
       "      <td>F</td>\n",
       "      <td>1910</td>\n",
       "      <td>Margaret</td>\n",
       "      <td>8</td>\n",
       "    </tr>\n",
       "    <tr>\n",
       "      <th>4</th>\n",
       "      <td>AK</td>\n",
       "      <td>F</td>\n",
       "      <td>1910</td>\n",
       "      <td>Helen</td>\n",
       "      <td>7</td>\n",
       "    </tr>\n",
       "    <tr>\n",
       "      <th>...</th>\n",
       "      <td>...</td>\n",
       "      <td>...</td>\n",
       "      <td>...</td>\n",
       "      <td>...</td>\n",
       "      <td>...</td>\n",
       "    </tr>\n",
       "    <tr>\n",
       "      <th>6504156</th>\n",
       "      <td>WY</td>\n",
       "      <td>M</td>\n",
       "      <td>2023</td>\n",
       "      <td>Parker</td>\n",
       "      <td>5</td>\n",
       "    </tr>\n",
       "    <tr>\n",
       "      <th>6504157</th>\n",
       "      <td>WY</td>\n",
       "      <td>M</td>\n",
       "      <td>2023</td>\n",
       "      <td>Rhett</td>\n",
       "      <td>5</td>\n",
       "    </tr>\n",
       "    <tr>\n",
       "      <th>6504158</th>\n",
       "      <td>WY</td>\n",
       "      <td>M</td>\n",
       "      <td>2023</td>\n",
       "      <td>Roman</td>\n",
       "      <td>5</td>\n",
       "    </tr>\n",
       "    <tr>\n",
       "      <th>6504159</th>\n",
       "      <td>WY</td>\n",
       "      <td>M</td>\n",
       "      <td>2023</td>\n",
       "      <td>Ryan</td>\n",
       "      <td>5</td>\n",
       "    </tr>\n",
       "    <tr>\n",
       "      <th>6504160</th>\n",
       "      <td>WY</td>\n",
       "      <td>M</td>\n",
       "      <td>2023</td>\n",
       "      <td>Timothy</td>\n",
       "      <td>5</td>\n",
       "    </tr>\n",
       "  </tbody>\n",
       "</table>\n",
       "<p>6504161 rows × 5 columns</p>\n",
       "</div>"
      ],
      "text/plain": [
       "        state sex  year      name  count\n",
       "0          AK   F  1910      Mary     14\n",
       "1          AK   F  1910     Annie     12\n",
       "2          AK   F  1910      Anna     10\n",
       "3          AK   F  1910  Margaret      8\n",
       "4          AK   F  1910     Helen      7\n",
       "...       ...  ..   ...       ...    ...\n",
       "6504156    WY   M  2023    Parker      5\n",
       "6504157    WY   M  2023     Rhett      5\n",
       "6504158    WY   M  2023     Roman      5\n",
       "6504159    WY   M  2023      Ryan      5\n",
       "6504160    WY   M  2023   Timothy      5\n",
       "\n",
       "[6504161 rows x 5 columns]"
      ]
     },
     "execution_count": 27,
     "metadata": {},
     "output_type": "execute_result"
    }
   ],
   "source": [
    "concatenated_state_df.reset_index(inplace=True, drop=True)\n",
    "concatenated_state_df"
   ]
  },
  {
   "cell_type": "code",
   "execution_count": 30,
   "metadata": {},
   "outputs": [],
   "source": [
    "concatenated_state_df.to_csv('concatenated_df_by_state.csv',index=False)"
   ]
  },
  {
   "cell_type": "code",
   "execution_count": 31,
   "metadata": {},
   "outputs": [
    {
     "data": {
      "text/html": [
       "<div>\n",
       "<style scoped>\n",
       "    .dataframe tbody tr th:only-of-type {\n",
       "        vertical-align: middle;\n",
       "    }\n",
       "\n",
       "    .dataframe tbody tr th {\n",
       "        vertical-align: top;\n",
       "    }\n",
       "\n",
       "    .dataframe thead th {\n",
       "        text-align: right;\n",
       "    }\n",
       "</style>\n",
       "<table border=\"1\" class=\"dataframe\">\n",
       "  <thead>\n",
       "    <tr style=\"text-align: right;\">\n",
       "      <th></th>\n",
       "      <th>state</th>\n",
       "      <th>sex</th>\n",
       "      <th>year</th>\n",
       "      <th>name</th>\n",
       "      <th>count</th>\n",
       "    </tr>\n",
       "  </thead>\n",
       "  <tbody>\n",
       "    <tr>\n",
       "      <th>0</th>\n",
       "      <td>AK</td>\n",
       "      <td>F</td>\n",
       "      <td>1910</td>\n",
       "      <td>Mary</td>\n",
       "      <td>14</td>\n",
       "    </tr>\n",
       "    <tr>\n",
       "      <th>1</th>\n",
       "      <td>AK</td>\n",
       "      <td>F</td>\n",
       "      <td>1910</td>\n",
       "      <td>Annie</td>\n",
       "      <td>12</td>\n",
       "    </tr>\n",
       "    <tr>\n",
       "      <th>2</th>\n",
       "      <td>AK</td>\n",
       "      <td>F</td>\n",
       "      <td>1910</td>\n",
       "      <td>Anna</td>\n",
       "      <td>10</td>\n",
       "    </tr>\n",
       "    <tr>\n",
       "      <th>3</th>\n",
       "      <td>AK</td>\n",
       "      <td>F</td>\n",
       "      <td>1910</td>\n",
       "      <td>Margaret</td>\n",
       "      <td>8</td>\n",
       "    </tr>\n",
       "    <tr>\n",
       "      <th>4</th>\n",
       "      <td>AK</td>\n",
       "      <td>F</td>\n",
       "      <td>1910</td>\n",
       "      <td>Helen</td>\n",
       "      <td>7</td>\n",
       "    </tr>\n",
       "    <tr>\n",
       "      <th>...</th>\n",
       "      <td>...</td>\n",
       "      <td>...</td>\n",
       "      <td>...</td>\n",
       "      <td>...</td>\n",
       "      <td>...</td>\n",
       "    </tr>\n",
       "    <tr>\n",
       "      <th>6504156</th>\n",
       "      <td>WY</td>\n",
       "      <td>M</td>\n",
       "      <td>2023</td>\n",
       "      <td>Parker</td>\n",
       "      <td>5</td>\n",
       "    </tr>\n",
       "    <tr>\n",
       "      <th>6504157</th>\n",
       "      <td>WY</td>\n",
       "      <td>M</td>\n",
       "      <td>2023</td>\n",
       "      <td>Rhett</td>\n",
       "      <td>5</td>\n",
       "    </tr>\n",
       "    <tr>\n",
       "      <th>6504158</th>\n",
       "      <td>WY</td>\n",
       "      <td>M</td>\n",
       "      <td>2023</td>\n",
       "      <td>Roman</td>\n",
       "      <td>5</td>\n",
       "    </tr>\n",
       "    <tr>\n",
       "      <th>6504159</th>\n",
       "      <td>WY</td>\n",
       "      <td>M</td>\n",
       "      <td>2023</td>\n",
       "      <td>Ryan</td>\n",
       "      <td>5</td>\n",
       "    </tr>\n",
       "    <tr>\n",
       "      <th>6504160</th>\n",
       "      <td>WY</td>\n",
       "      <td>M</td>\n",
       "      <td>2023</td>\n",
       "      <td>Timothy</td>\n",
       "      <td>5</td>\n",
       "    </tr>\n",
       "  </tbody>\n",
       "</table>\n",
       "<p>6504161 rows × 5 columns</p>\n",
       "</div>"
      ],
      "text/plain": [
       "        state sex  year      name  count\n",
       "0          AK   F  1910      Mary     14\n",
       "1          AK   F  1910     Annie     12\n",
       "2          AK   F  1910      Anna     10\n",
       "3          AK   F  1910  Margaret      8\n",
       "4          AK   F  1910     Helen      7\n",
       "...       ...  ..   ...       ...    ...\n",
       "6504156    WY   M  2023    Parker      5\n",
       "6504157    WY   M  2023     Rhett      5\n",
       "6504158    WY   M  2023     Roman      5\n",
       "6504159    WY   M  2023      Ryan      5\n",
       "6504160    WY   M  2023   Timothy      5\n",
       "\n",
       "[6504161 rows x 5 columns]"
      ]
     },
     "execution_count": 31,
     "metadata": {},
     "output_type": "execute_result"
    }
   ],
   "source": [
    "#Just to check if it was correctly saved\n",
    "a=pd.read_csv('concatenated_df_by_state.csv')\n",
    "a"
   ]
  },
  {
   "cell_type": "code",
   "execution_count": null,
   "metadata": {},
   "outputs": [],
   "source": []
  }
 ],
 "metadata": {
  "kernelspec": {
   "display_name": "Python 3 (ipykernel)",
   "language": "python",
   "name": "python3"
  },
  "language_info": {
   "codemirror_mode": {
    "name": "ipython",
    "version": 3
   },
   "file_extension": ".py",
   "mimetype": "text/x-python",
   "name": "python",
   "nbconvert_exporter": "python",
   "pygments_lexer": "ipython3",
   "version": "3.10.9"
  }
 },
 "nbformat": 4,
 "nbformat_minor": 2
}
